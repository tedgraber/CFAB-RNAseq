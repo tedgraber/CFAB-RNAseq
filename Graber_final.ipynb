{
 "cells": [
  {
   "cell_type": "code",
   "execution_count": null,
   "metadata": {},
   "outputs": [],
   "source": [
    "import numpy as np\n",
    "import pandas as pd\n",
    "import seaborn as sns\n",
    "from scipy import stats\n",
    "from mpl_toolkits.mplot3d import Axes3D\n",
    "\n",
    "sns.set(style=\"white\")\n",
    "sns.set(style=\"whitegrid\", color_codes=True)\n",
    "sns.set(style=\"white\")\n",
    "sns.set(style=\"whitegrid\", color_codes=True)\n",
    "\n",
    "import os\n",
    "\n",
    "# to make this notebook's output stable across runs\n",
    "np.random.seed(42)\n",
    "\n",
    "# To plot pretty figures\n",
    "%matplotlib inline\n",
    "import matplotlib as mpl\n",
    "import matplotlib.pyplot as plt\n",
    "from sklearn.preprocessing import LabelEncoder, StandardScaler"
   ]
  },
  {
   "cell_type": "code",
   "execution_count": null,
   "metadata": {},
   "outputs": [],
   "source": [
    "df_raw = pd.read_excel('C:/data/CORBIN/Graber/new/adult_older.xlsx', sheet_name='raw')\n",
    "df_p = pd.read_excel('C:/data/CORBIN/Graber/new/adult_older.xlsx', sheet_name='p<0.05')\n",
    "df_l = pd.read_excel('C:/data/CORBIN/Graber/new/adult_older.xlsx', sheet_name='log2fc>=1')"
   ]
  },
  {
   "cell_type": "code",
   "execution_count": null,
   "metadata": {},
   "outputs": [],
   "source": [
    "df_old=pd.merge(df_p, df_raw, on='gene_id', how='left')\n"
   ]
  },
  {
   "cell_type": "code",
   "execution_count": null,
   "metadata": {},
   "outputs": [],
   "source": [
    "df_older=pd.merge(df_l, df_old, on='gene_id', how='left')\n",
    "df_older"
   ]
  },
  {
   "cell_type": "code",
   "execution_count": null,
   "metadata": {},
   "outputs": [],
   "source": [
    "df_older.to_excel('C:/data/CORBIN/Graber/new/adult_older_1.xlsx')"
   ]
  },
  {
   "cell_type": "code",
   "execution_count": null,
   "metadata": {},
   "outputs": [],
   "source": [
    "df1_raw = pd.read_excel('C:/data/CORBIN/Graber/new/adult_elder.xlsx', sheet_name='raw')\n",
    "df1_p = pd.read_excel('C:/data/CORBIN/Graber/new/adult_elder.xlsx', sheet_name='p<0.05')\n",
    "df1_l = pd.read_excel('C:/data/CORBIN/Graber/new/adult_elder.xlsx', sheet_name='log2fc>=1')\n"
   ]
  },
  {
   "cell_type": "code",
   "execution_count": null,
   "metadata": {},
   "outputs": [],
   "source": [
    "df_eld=pd.merge(df1_p, df1_raw, on='gene_id', how='left')\n",
    "df_elder=pd.merge(df_eld, df1_l, on='gene_id', how='right')\n",
    "df_elder.describe()"
   ]
  },
  {
   "cell_type": "code",
   "execution_count": null,
   "metadata": {},
   "outputs": [],
   "source": [
    "df_elder.to_excel('C:/data/CORBIN/Graber/new/adult_elder_1.xlsx')"
   ]
  },
  {
   "cell_type": "code",
   "execution_count": null,
   "metadata": {},
   "outputs": [],
   "source": [
    "def regviz (data, uge):\n",
    "    x=data['CFAB']\n",
    "    y=data[uge]\n",
    "    data_fit = np.polyfit(x, y, 1)\n",
    "    slope, intercept, r, p_value, std_err = stats.linregress(x,y)\n",
    "    fig, ax = plt.subplots(figsize=(10,8))\n",
    "    \n",
    "    #sns.regplot(x=x, y=y, color='deeppink', ci=0, marker='^')\n",
    "    data1=data[data['age']==data['age'].value_counts().index[1]]\n",
    "    data2=data[data['age']==data['age'].value_counts().index[0]]\n",
    "    ax.scatter(data1['CFAB'], data1[uge], c='green', marker='^', alpha=1, s=400)\n",
    "    ax.scatter(data2['CFAB'], data2[uge], c='red', marker='^', alpha=1, s=400)\n",
    "#     ax1 = data1.plot(kind='scatter', x='cfab', y=uge, color='green', alpha=1, figsize=(10, 7), marker='^', s=400)\n",
    "#     ax1 = data2.plot(kind='scatter', x='cfab', y=uge, color='red', alpha=1, figsize=(10, 7), marker='^', s=400)\n",
    "    plt.plot(x, data_fit[0] * x + data_fit[1], color='darkblue', linestyle='dotted')\n",
    "    old_elder0=data['age'].value_counts().index[0]\n",
    "    old_elder1=data['age'].value_counts().index[1]\n",
    "    plt.title('CFAB vs. '+uge+'(green:age {}, red:age {})'.format(old_elder1, old_elder0), size=24)\n",
    "    \n",
    "    plt.xlabel('CFAB', size=18)\n",
    "    plt.ylabel('Log2 fold expression', size=18)\n",
    "    if slope<0:\n",
    "        plt.text(max(x)-4, max(y)-(max(y)-min(y))/len(y), 'y={:.2f}+{:.2f}*x'.format(data_fit[1], data_fit[0]), color='black', size=15)\n",
    "        plt.text(max(x)-4, max(y)-(max(y)-min(y))/(len(y)-12), 'R2={:.2f}'.format(r**2), color='black', size=15)\n",
    "        plt.text(max(x)-4, max(y)-(max(y)-min(y))/(len(y)-15), 'P-value={:.2f}'.format(p_value), color='black', size=15)\n",
    "    else:\n",
    "        plt.text(max(x)-3, min(y)+(max(y)-min(y))/(len(y)-15), 'y={:.2f}+{:.2f}*x'.format(data_fit[1], data_fit[0]), color='black', size=15)\n",
    "        plt.text(max(x)-3, min(y)+(max(y)-min(y))/(len(y)-12), 'R2={:.2f}'.format(r**2), color='black', size=15)\n",
    "        plt.text(max(x)-3, min(y)+(max(y)-min(y))/(len(y)), 'P-value={:.2f}'.format(p_value), color='black', size=15)\n",
    "    if old_elder1==6 and old_elder0==24:\n",
    "        plt.savefig('C:/data/CORBIN/Graber/new/viz/adult_old/{}.png'.format(uge))\n",
    "    elif old_elder1==6 and old_elder0==28:\n",
    "        plt.savefig('C:/data/CORBIN/Graber/new/viz/adult_elder/{}.png'.format(uge))\n",
    "    elif old_elder1==24 and old_elder0==28:\n",
    "        plt.savefig('C:/data/CORBIN/Graber/new/viz/old_elder/{}.png'.format(uge))\n",
    "    return slope, intercept, r**2, p_value"
   ]
  },
  {
   "cell_type": "code",
   "execution_count": null,
   "metadata": {},
   "outputs": [],
   "source": [
    "df_ori = pd.read_excel('C:/data/CORBIN/Graber/new/adult_older_f.xlsx', sheet_name='original')\n",
    "df_end = pd.read_excel('C:/data/CORBIN/Graber/new/adult_older_f.xlsx', sheet_name='end')"
   ]
  },
  {
   "cell_type": "code",
   "execution_count": null,
   "metadata": {},
   "outputs": [],
   "source": [
    "df_ori['age'].value_counts().index[0]\n"
   ]
  },
  {
   "cell_type": "code",
   "execution_count": null,
   "metadata": {},
   "outputs": [],
   "source": [
    "df_slope=[]\n",
    "df_pval=[]\n",
    "df_r2=[]\n",
    "df_intercept=[]\n",
    "\n",
    "for i in df_end['gene_id']:\n",
    "    s, i, r2, p=regviz(df_ori, i)\n",
    "    df_slope.append(s)\n",
    "    df_pval.append(p)\n",
    "    df_intercept.append(i)\n",
    "    df_r2.append(r2)\n",
    "df_end['slope']=df_slope\n",
    "df_end['intercept']=df_intercept\n",
    "df_end['R2']=df_r2\n",
    "df_end['pval']=df_pval"
   ]
  },
  {
   "cell_type": "code",
   "execution_count": null,
   "metadata": {},
   "outputs": [],
   "source": [
    "df_end.to_excel('C:/data/CORBIN/Graber/new/older_var.xlsx')"
   ]
  },
  {
   "cell_type": "code",
   "execution_count": null,
   "metadata": {},
   "outputs": [],
   "source": [
    "df1_ori = pd.read_excel('C:/data/CORBIN/Graber/new/adult_elder_f.xlsx', sheet_name='original')\n",
    "df1_end = pd.read_excel('C:/data/CORBIN/Graber/new/adult_elder_f.xlsx', sheet_name='end')"
   ]
  },
  {
   "cell_type": "code",
   "execution_count": null,
   "metadata": {},
   "outputs": [],
   "source": [
    "df_slope=[]\n",
    "df_pval=[]\n",
    "df_r2=[]\n",
    "df_intercept=[]\n",
    "\n",
    "for i in df1_end['gene_id']:\n",
    "    s, i, r2, p=regviz(df1_ori, i)\n",
    "    df_slope.append(s)\n",
    "    df_pval.append(p)\n",
    "    df_intercept.append(i)\n",
    "    df_r2.append(r2)\n",
    "df1_end['slope']=df_slope\n",
    "df1_end['intercept']=df_intercept\n",
    "df1_end['R2']=df_r2\n",
    "df1_end['pval']=df_pval"
   ]
  },
  {
   "cell_type": "code",
   "execution_count": null,
   "metadata": {},
   "outputs": [],
   "source": [
    "df1_end.to_excel('C:/data/CORBIN/Graber/new/elder_var.xlsx')"
   ]
  },
  {
   "cell_type": "code",
   "execution_count": null,
   "metadata": {},
   "outputs": [],
   "source": [
    "df_all = pd.read_excel('C:/data/CORBIN/Graber/new/all.xlsx', sheet_name='all')\n",
    "dfa_older = pd.read_excel('C:/data/CORBIN/Graber/new/all.xlsx', sheet_name='older')\n",
    "dfa_elder = pd.read_excel('C:/data/CORBIN/Graber/new/all.xlsx', sheet_name='elder')"
   ]
  },
  {
   "cell_type": "code",
   "execution_count": null,
   "metadata": {},
   "outputs": [],
   "source": [
    "older_elder=pd.merge(dfa_older, dfa_elder, on='gene_id', how='outer')\n",
    "dfa=pd.merge(older_elder, df_all, on='gene_id', how='left')\n",
    "dfa.describe()"
   ]
  },
  {
   "cell_type": "code",
   "execution_count": null,
   "metadata": {},
   "outputs": [],
   "source": [
    "dfa.to_excel('C:/data/CORBIN/Graber/new/all_1.xlsx')"
   ]
  },
  {
   "cell_type": "code",
   "execution_count": null,
   "metadata": {},
   "outputs": [],
   "source": [
    "dfa_ori = pd.read_excel('C:/data/CORBIN/Graber/new/all_f.xlsx', sheet_name='original')\n",
    "dfa_end = pd.read_excel('C:/data/CORBIN/Graber/new/all_f.xlsx', sheet_name='end')"
   ]
  },
  {
   "cell_type": "code",
   "execution_count": null,
   "metadata": {},
   "outputs": [],
   "source": [
    "dfa_ori['age'].value_counts().index[1]"
   ]
  },
  {
   "cell_type": "code",
   "execution_count": null,
   "metadata": {},
   "outputs": [],
   "source": [
    "df_slope=[]\n",
    "df_pval=[]\n",
    "df_r2=[]\n",
    "df_intercept=[]\n",
    "\n",
    "for i in dfa_end['gene_id']:\n",
    "    s, i, r2, p=regviz(dfa_ori, i)\n",
    "    df_slope.append(s)\n",
    "    df_pval.append(p)\n",
    "    df_intercept.append(i)\n",
    "    df_r2.append(r2)\n",
    "dfa_end['slope']=df_slope\n",
    "dfa_end['intercept']=df_intercept\n",
    "dfa_end['R2']=df_r2\n",
    "dfa_end['pval']=df_pval"
   ]
  },
  {
   "cell_type": "code",
   "execution_count": null,
   "metadata": {},
   "outputs": [],
   "source": [
    "dfa_end.to_excel('C:/data/CORBIN/Graber/new/all_var.xlsx')"
   ]
  },
  {
   "cell_type": "code",
   "execution_count": null,
   "metadata": {},
   "outputs": [],
   "source": [
    "def regviz_all (data, uge):\n",
    "    x=data['CFAB']\n",
    "    y=data[uge]\n",
    "    data_fit = np.polyfit(x, y, 1)\n",
    "    slope, intercept, r, p_value, std_err = stats.linregress(x,y)\n",
    "    fig, ax = plt.subplots(figsize=(10,8))\n",
    "    \n",
    "    #sns.regplot(x=x, y=y, color='deeppink', ci=0, marker='^')\n",
    "    data1=data[data['age']==data['age'].value_counts().index[1]]\n",
    "    data2=data[data['age']==data['age'].value_counts().index[0]]\n",
    "    data3=data[data['age']==data['age'].value_counts().index[2]]\n",
    "    ax.scatter(data1['CFAB'], data1[uge], c='black', marker='^', alpha=1, s=300)\n",
    "    ax.scatter(data2['CFAB'], data2[uge], c='red', marker='^', alpha=1, s=300)\n",
    "    ax.scatter(data3['CFAB'], data3[uge], c='green', marker='^', alpha=1, s=300)\n",
    "#     ax1 = data1.plot(kind='scatter', x='cfab', y=uge, color='green', alpha=1, figsize=(10, 7), marker='^', s=400)\n",
    "#     ax1 = data2.plot(kind='scatter', x='cfab', y=uge, color='red', alpha=1, figsize=(10, 7), marker='^', s=400)\n",
    "    plt.plot(x, data_fit[0] * x + data_fit[1], color='darkblue', linestyle='dotted')\n",
    "    old_elder0=data['age'].value_counts().index[0]\n",
    "    old_elder1=data['age'].value_counts().index[1]\n",
    "    old_elder2=data['age'].value_counts().index[2]\n",
    "    plt.title('CFAB vs. '+uge+'(green:age {}, red:age {}, black:age {})'.format(old_elder2, old_elder0, old_elder1), size=24)\n",
    "    \n",
    "    plt.xlabel('CFAB', size=18)\n",
    "    plt.ylabel('Log2 fold expression', size=18)\n",
    "    if slope<0:\n",
    "        plt.text(max(x)-4, max(y)-(max(y)-min(y))/len(y), 'y={:.2f}+{:.2f}*x'.format(data_fit[1], data_fit[0]), color='black', size=15)\n",
    "        plt.text(max(x)-4, max(y)-(max(y)-min(y))/(len(y)-12), 'R2={:.2f}'.format(r**2), color='black', size=15)\n",
    "        plt.text(max(x)-4, max(y)-(max(y)-min(y))/(len(y)-15), 'P-value={:.2f}'.format(p_value), color='black', size=15)\n",
    "    else:\n",
    "        plt.text(max(x)-3, min(y)+(max(y)-min(y))/(len(y)-15), 'y={:.2f}+{:.2f}*x'.format(data_fit[1], data_fit[0]), color='black', size=15)\n",
    "        plt.text(max(x)-3, min(y)+(max(y)-min(y))/(len(y)-12), 'R2={:.2f}'.format(r**2), color='black', size=15)\n",
    "        plt.text(max(x)-3, min(y)+(max(y)-min(y))/(len(y)), 'P-value={:.2f}'.format(p_value), color='black', size=15)\n",
    "    \n",
    "    plt.savefig('C:/data/CORBIN/Graber/new/viz/adult_old_elder/{}.png'.format(uge))\n",
    "\n",
    "    return slope, intercept, r**2, p_value"
   ]
  },
  {
   "cell_type": "code",
   "execution_count": null,
   "metadata": {},
   "outputs": [],
   "source": [
    "s, i, r2, p=regviz_all(dfc_ori, 'Gm2694')"
   ]
  },
  {
   "cell_type": "code",
   "execution_count": null,
   "metadata": {},
   "outputs": [],
   "source": [
    "dfc_ori = pd.read_excel('C:/data/CORBIN/Graber/new/all_f.xlsx', sheet_name='original')\n",
    "dfc_end = pd.read_excel('C:/data/CORBIN/Graber/new/all_f.xlsx', sheet_name='end')"
   ]
  },
  {
   "cell_type": "code",
   "execution_count": null,
   "metadata": {},
   "outputs": [],
   "source": [
    "df_slope=[]\n",
    "df_pval=[]\n",
    "df_r2=[]\n",
    "df_intercept=[]\n",
    "\n",
    "for i in dfc_end['gene_id']:\n",
    "    s, i, r2, p=regviz_all(dfc_ori, i)\n",
    "    df_slope.append(s)\n",
    "    df_pval.append(p)\n",
    "    df_intercept.append(i)\n",
    "    df_r2.append(r2)\n",
    "dfc_end['slope']=df_slope\n",
    "dfc_end['intercept']=df_intercept\n",
    "dfc_end['R2']=df_r2\n",
    "dfc_end['pval']=df_pval"
   ]
  },
  {
   "cell_type": "code",
   "execution_count": null,
   "metadata": {},
   "outputs": [],
   "source": [
    "dfc_end.to_excel('C:/data/CORBIN/Graber/new/adult_old_elder_result.xlsx')"
   ]
  },
  {
   "cell_type": "code",
   "execution_count": null,
   "metadata": {},
   "outputs": [],
   "source": [
    "dfo_cluster = pd.read_excel('C:/data/CORBIN/Graber/new/adult_older_raw1.xlsx', index=False)\n",
    "\n"
   ]
  },
  {
   "cell_type": "code",
   "execution_count": null,
   "metadata": {},
   "outputs": [],
   "source": [
    "age = dfo_cluster.pop(\"age\")\n",
    "\n",
    "lut = dict(zip(age.unique(), \"rbg\"))\n",
    "row_colors = age.map(lut)\n",
    "g = sns.clustermap(dfo_cluster, figsize=(12, 15),cmap=\"mako\", row_colors=row_colors)"
   ]
  },
  {
   "cell_type": "code",
   "execution_count": null,
   "metadata": {},
   "outputs": [],
   "source": [
    "dfe_cluster = pd.read_excel('C:/data/CORBIN/Graber/new/adult_elder_raw1.xlsx')\n"
   ]
  },
  {
   "cell_type": "code",
   "execution_count": null,
   "metadata": {},
   "outputs": [],
   "source": [
    "age = dfe_cluster.pop(\"age\")\n",
    "\n",
    "lut = dict(zip(age.unique(), \"rbg\"))\n",
    "row_colors = age.map(lut)\n",
    "g = sns.clustermap(dfe_cluster, figsize=(12, 15),cmap=\"mako\", row_colors=row_colors)"
   ]
  },
  {
   "cell_type": "code",
   "execution_count": null,
   "metadata": {},
   "outputs": [],
   "source": [
    "dfa_cluster = pd.read_excel('C:/data/CORBIN/Graber/new/adult_older_elder_raw1.xlsx')\n"
   ]
  },
  {
   "cell_type": "code",
   "execution_count": null,
   "metadata": {},
   "outputs": [],
   "source": [
    "age = dfa_cluster.pop(\"age\")\n",
    "\n",
    "lut = dict(zip(age.unique(), \"rbg\"))\n",
    "row_colors = age.map(lut)\n",
    "g = sns.clustermap(dfa_cluster, figsize=(12, 15),cmap=\"mako\", row_colors=row_colors)"
   ]
  },
  {
   "cell_type": "code",
   "execution_count": null,
   "metadata": {},
   "outputs": [],
   "source": [
    "dfexp=pd.read_excel('C:/data/CORBIN/Graber/new/all_1.xlsx', sheet_name='mean')"
   ]
  },
  {
   "cell_type": "code",
   "execution_count": null,
   "metadata": {},
   "outputs": [],
   "source": [
    "dfexp_hm=dfexp.drop(['gene_id'],axis=1)\n",
    "for i in dfexp_hm.columns:\n",
    "    for j in range(len(dfexp_hm)):\n",
    "        if abs(dfexp_hm[i][j])<=1.5:\n",
    "            dfexp_hm[i][j]=np.nan\n",
    "            \n",
    "dfexp_hm"
   ]
  },
  {
   "cell_type": "code",
   "execution_count": null,
   "metadata": {},
   "outputs": [],
   "source": [
    "from matplotlib.colors import LinearSegmentedColormap\n",
    "import matplotlib.colors as mcolors"
   ]
  },
  {
   "cell_type": "code",
   "execution_count": null,
   "metadata": {},
   "outputs": [],
   "source": [
    "fig, ax = plt.subplots(figsize=(12,120)) \n",
    "\n",
    "#rdgn = sns.diverging_palette(h_neg=240, h_pos=10, s=98, l=65, sep=1,as_cmap=True)\n",
    "cmap = LinearSegmentedColormap.from_list('GkR',['green','black','red'])\n",
    "sns.heatmap(dfexp_hm, yticklabels=dfexp['gene_id'], cmap=cmap, cbar=True)"
   ]
  },
  {
   "cell_type": "code",
   "execution_count": null,
   "metadata": {},
   "outputs": [],
   "source": [
    "dfr_fao = pd.read_excel('C:/data/CORBIN/Graber/new/lg2fc_ao.xlsx')\n",
    "dfr_fae = pd.read_excel('C:/data/CORBIN/Graber/new/lg2fc_ae.xlsx')\n",
    "dfr_ao=pd.read_excel('C:/data/CORBIN/Graber/Graber_results0622/adult_old_result.xlsx')\n",
    "dfr_ae=pd.read_excel('C:/data/CORBIN/Graber/Graber_results0622/adult_elder_result.xlsx')\n",
    "dfr_aoe=pd.read_excel('C:/data/CORBIN/Graber/Graber_results0622/adult_old_elder_result.xlsx')\n",
    "dfr_oe=pd.read_excel('C:/data/CORBIN/Graber/Graber_results0622/old_elderly_result.xlsx')\n",
    "\n"
   ]
  },
  {
   "cell_type": "code",
   "execution_count": null,
   "metadata": {},
   "outputs": [],
   "source": [
    "dfr_all=pd.merge(dfr_fao, dfr_fae, on='gene_id', how='outer')"
   ]
  },
  {
   "cell_type": "code",
   "execution_count": null,
   "metadata": {},
   "outputs": [],
   "source": [
    "dfr_ao=pd.merge(dfr_ao, dfr_fao, on='gene_id', how='left')\n",
    "dfr_ae=pd.merge(dfr_ae, dfr_fae, on='gene_id', how='left')\n",
    "dfr_aoe=pd.merge(dfr_aoe, dfr_all, on='gene_id', how='left')\n",
    "dfr_oe=pd.merge(dfr_oe, dfr_all, on='gene_id', how='left')"
   ]
  },
  {
   "cell_type": "code",
   "execution_count": null,
   "metadata": {},
   "outputs": [],
   "source": [
    "dfr_ao.to_excel('C:/data/CORBIN/Graber/Graber_results0622/adult_older_reg.xlsx')\n",
    "dfr_ae.to_excel('C:/data/CORBIN/Graber/Graber_results0622/adult_elderly_reg.xlsx')\n",
    "dfr_aoe.to_excel('C:/data/CORBIN/Graber/Graber_results0622/adult_older_elderly_reg.xlsx')\n",
    "dfr_oe.to_excel('C:/data/CORBIN/Graber/Graber_results0622/older_elderly_reg.xlsx')"
   ]
  },
  {
   "cell_type": "code",
   "execution_count": null,
   "metadata": {},
   "outputs": [],
   "source": [
    "df_go = pd.read_excel('C:/data/CORBIN/Graber/new/GOrilla_function_adult_older.xlsx', sheet_name='clean')"
   ]
  },
  {
   "cell_type": "code",
   "execution_count": null,
   "metadata": {},
   "outputs": [],
   "source": [
    "sample=df_go['Genes'][2]\n",
    "sample"
   ]
  },
  {
   "cell_type": "code",
   "execution_count": null,
   "metadata": {},
   "outputs": [],
   "source": [
    "sample1=sample.split(',')\n",
    "sample1[10]"
   ]
  },
  {
   "cell_type": "code",
   "execution_count": null,
   "metadata": {},
   "outputs": [],
   "source": [
    "sample2=str(sample1[10]).split('-') \n",
    "sample2"
   ]
  },
  {
   "cell_type": "code",
   "execution_count": null,
   "metadata": {},
   "outputs": [],
   "source": [
    "sample3=str(sample2[0])[1:-2]\n",
    "sample3"
   ]
  },
  {
   "cell_type": "code",
   "execution_count": null,
   "metadata": {},
   "outputs": [],
   "source": [
    "sample3[0].istitle()"
   ]
  },
  {
   "cell_type": "code",
   "execution_count": null,
   "metadata": {},
   "outputs": [],
   "source": [
    "genes=[]\n",
    "genes_all=[]\n",
    "genes_go=[]\n",
    "gene_term=[]\n",
    "for i, row in df_go.iterrows():\n",
    "    gene_len=len(df_go['Genes'][i].split(','))\n",
    "    for j in range(gene_len):\n",
    "        g=str(str(df_go['Genes'][i].split(',')[j]).split('-')[0])[1:-2]\n",
    "        #print (g[0])\n",
    "        if len(g)>1:\n",
    "            if g[0].istitle():\n",
    "                genes.append(g)\n",
    "                genes_go.append(g)\n",
    "    for k in range(len(genes)):\n",
    "        gene_term.append(df_go['GO Term'][i])\n",
    "    print (genes)\n",
    "    genes_all.append(genes)\n",
    "    genes=[]\n",
    "    gene_len=0\n"
   ]
  },
  {
   "cell_type": "code",
   "execution_count": null,
   "metadata": {},
   "outputs": [],
   "source": [
    "print (len(gene_term), gene_term)\n",
    "print (len(genes_go), genes_go)"
   ]
  },
  {
   "cell_type": "code",
   "execution_count": null,
   "metadata": {},
   "outputs": [],
   "source": [
    "data = {'GO_TERM': gene_term,\n",
    "        'gene_id': genes_go}\n",
    "\n",
    "df_older_gene = pd.DataFrame (data, columns = ['GO_TERM','gene_id'])\n",
    "df_older_gene.to_excel('C:/data/CORBIN/Graber/new713/GOrilla_geneID_older.xlsx')"
   ]
  },
  {
   "cell_type": "code",
   "execution_count": null,
   "metadata": {},
   "outputs": [],
   "source": [
    "genes_go_set=set(genes_go)\n",
    "print (len(genes_go))\n",
    "print (len(genes_go_set))\n",
    "print (genes_go_set)"
   ]
  },
  {
   "cell_type": "code",
   "execution_count": null,
   "metadata": {},
   "outputs": [],
   "source": [
    "df_go['gene_id']=genes_all\n",
    "df_go.head()"
   ]
  },
  {
   "cell_type": "code",
   "execution_count": null,
   "metadata": {},
   "outputs": [],
   "source": [
    "df_go.to_excel('C:/data/CORBIN/Graber/new/GOrilla_adult_older_cleaned.xlsx')"
   ]
  },
  {
   "cell_type": "code",
   "execution_count": null,
   "metadata": {},
   "outputs": [],
   "source": [
    "df2_go = pd.read_excel('C:/data/CORBIN/Graber/new/GOrilla_function_adult_elderly.xlsx')"
   ]
  },
  {
   "cell_type": "code",
   "execution_count": null,
   "metadata": {},
   "outputs": [],
   "source": [
    "genes=[]\n",
    "genes_all=[]\n",
    "genes_go2=[]\n",
    "gene_term2=[]\n",
    "for i, row in df2_go.iterrows():\n",
    "    gene_len=len(df2_go['Genes'][i].split(','))\n",
    "    for j in range(gene_len):\n",
    "        g=str(str(df2_go['Genes'][i].split(',')[j]).split('-')[0])[1:-2]\n",
    "        #print (g[0])\n",
    "        if len(g)>1:\n",
    "            if g[0].istitle():\n",
    "                genes.append(g)\n",
    "                genes_go2.append(g)\n",
    "    for k in range(len(genes)):\n",
    "        gene_term2.append(df2_go['GO Term'][i])\n",
    "    print (genes)\n",
    "    genes_all.append(genes)\n",
    "    genes=[]\n",
    "    gene_len=0\n"
   ]
  },
  {
   "cell_type": "code",
   "execution_count": null,
   "metadata": {},
   "outputs": [],
   "source": [
    "print (len(gene_term2), gene_term2)\n",
    "print (len(genes_go2), genes_go2)"
   ]
  },
  {
   "cell_type": "code",
   "execution_count": null,
   "metadata": {},
   "outputs": [],
   "source": [
    "data = {'GO_TERM': gene_term2,\n",
    "        'gene_id': genes_go2}\n",
    "\n",
    "df_elderly_gene = pd.DataFrame (data, columns = ['GO_TERM','gene_id'])\n",
    "df_elderly_gene.to_excel('C:/data/CORBIN/Graber/new713/GOrilla_geneID_elderly.xlsx')"
   ]
  },
  {
   "cell_type": "code",
   "execution_count": null,
   "metadata": {},
   "outputs": [],
   "source": [
    "genes_go_set2=set(genes_go2)\n",
    "print (len(genes_go2))\n",
    "print (len(genes_go_set2))\n",
    "print (genes_go_set2)"
   ]
  },
  {
   "cell_type": "code",
   "execution_count": null,
   "metadata": {},
   "outputs": [],
   "source": [
    "df2_go['gene_id']=genes_all\n",
    "df2_go.head()"
   ]
  },
  {
   "cell_type": "code",
   "execution_count": null,
   "metadata": {},
   "outputs": [],
   "source": [
    "df2_go.to_excel('C:/data/CORBIN/Graber/new/GOrilla_adult_elderly_cleaned.xlsx')"
   ]
  }
 ],
 "metadata": {
  "kernelspec": {
   "display_name": "Python 3 (ipykernel)",
   "language": "python",
   "name": "python3"
  },
  "language_info": {
   "codemirror_mode": {
    "name": "ipython",
    "version": 3
   },
   "file_extension": ".py",
   "mimetype": "text/x-python",
   "name": "python",
   "nbconvert_exporter": "python",
   "pygments_lexer": "ipython3",
   "version": "3.9.7"
  }
 },
 "nbformat": 4,
 "nbformat_minor": 2
}
